{
 "metadata": {
  "language_info": {
   "codemirror_mode": {
    "name": "ipython",
    "version": 3
   },
   "file_extension": ".py",
   "mimetype": "text/x-python",
   "name": "python",
   "nbconvert_exporter": "python",
   "pygments_lexer": "ipython3",
   "version": "3.8.5"
  },
  "orig_nbformat": 2,
  "kernelspec": {
   "name": "python385jvsc74a57bd08ba3bc10590da345f804c898a7543b8d763623f3b1e5cdd1bace1300ddaa9478",
   "display_name": "Python 3.8.5 64-bit"
  }
 },
 "nbformat": 4,
 "nbformat_minor": 2,
 "cells": [
  {
   "cell_type": "code",
   "execution_count": null,
   "metadata": {},
   "outputs": [],
   "source": [
    "#call the funcs\r\n",
    "from pack import selectRC\r\n",
    "from pack import gaia_match\r\n",
    "from pack import vizier_db"
   ]
  },
  {
   "cell_type": "code",
   "execution_count": null,
   "metadata": {},
   "outputs": [],
   "source": [
    "#run the funcs\n",
    "\n",
    "#you can call a catalog from vizier database\n",
    "merge_data,teff,logg,ra,dec=vizier_db.vizier_db(\"III/284/allstars\")"
   ]
  },
  {
   "cell_type": "code",
   "execution_count": null,
   "metadata": {},
   "outputs": [],
   "source": [
    "##you can match all catalog to gaia and bailer-jones\n",
    "#gaia_match.gaia_match(ra,dec,'sampleGaia.csv')"
   ]
  },
  {
   "cell_type": "code",
   "execution_count": null,
   "metadata": {},
   "outputs": [],
   "source": [
    "#you can select RC stars on HR diagram and save the RC data to csv\n",
    "select_rc=selectRC.hess(merge_data,teff,logg,'sample.csv','sample.png')"
   ]
  },
  {
   "cell_type": "code",
   "execution_count": null,
   "metadata": {},
   "outputs": [],
   "source": [
    "#you can match only RC stars to gaia and bailer-jones and save the data\n",
    "gaia_match.gaia_match(select_rc['ra'],select_rc['dec'],'sampleRCGaia.csv')"
   ]
  },
  {
   "cell_type": "code",
   "execution_count": null,
   "metadata": {},
   "outputs": [],
   "source": [
    "#you can use your data using the funcs\n",
    "#select_rc=select_rc.hess('yourdata.csv',yourdataTeff,yourdataLogg,'yourOutputName.csv','yourFigure.png')"
   ]
  },
  {
   "cell_type": "code",
   "execution_count": null,
   "metadata": {},
   "outputs": [],
   "source": [
    "#you can use your data when you want to match your data to Gaia\n",
    "#gaia_match.gaia_match(yourdataRA,yourdataDEC,'yourdataCGaia.csv')"
   ]
  }
 ]
}